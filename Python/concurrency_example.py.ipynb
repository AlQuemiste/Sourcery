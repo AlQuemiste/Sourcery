{
 "cells": [
  {
   "cell_type": "code",
   "execution_count": null,
   "metadata": {
    "collapsed": false
   },
   "outputs": [],
   "source": [
    "'''\n",
    "An Introduction to Python Concurrency\n",
    "David Beazley\n",
    "Presented at USENIX Technical Conference\n",
    "San Diego, June, 2009\n",
    "'''"
   ]
  },
  {
   "cell_type": "code",
   "execution_count": null,
   "metadata": {
    "collapsed": true
   },
   "outputs": [],
   "source": [
    "import time\n",
    "import threading"
   ]
  },
  {
   "cell_type": "code",
   "execution_count": 15,
   "metadata": {
    "collapsed": false
   },
   "outputs": [],
   "source": [
    "class CountdownThread(threading.Thread):\n",
    "    def __init__(self, count, name):\n",
    "        threading.Thread.__init__(self)\n",
    "        self.count = count\n",
    "        self.name = name.strip()\n",
    "        \n",
    "    def run(self):\n",
    "        while self.count > 0:\n",
    "            print( \"%s at %d\\n\" % (self.name, self.count) )\n",
    "            self.count -= 1\n",
    "            time.sleep(1)\n",
    "        return\n",
    "#-----------------------------------------"
   ]
  },
  {
   "cell_type": "code",
   "execution_count": 16,
   "metadata": {
    "collapsed": false
   },
   "outputs": [
    {
     "name": "stdout",
     "output_type": "stream",
     "text": [
      "th1 at 10\n",
      "\n",
      "th2 at 5\n",
      "\n",
      "th1 at 9\n",
      "\n",
      "th2 at 4\n",
      "\n",
      "th1 at 8\n",
      "\n",
      "th2 at 3\n",
      "\n",
      "th1 at 7\n",
      "\n",
      "th2 at 2\n",
      "\n",
      "th1 at 6\n",
      "\n",
      "th2 at 1\n",
      "\n",
      "th1 at 5\n",
      "\n",
      "th1 at 4\n",
      "\n",
      "th1 at 3\n",
      "\n",
      "th1 at 2\n",
      "\n",
      "th1 at 1\n",
      "\n"
     ]
    }
   ],
   "source": [
    "t1 = CountdownThread(10, \"th1\")  # Create the thread object\n",
    "t1.start() # Launch the thread\n",
    "t2 = CountdownThread(5, \"th2\") # Create another thread\n",
    "t2.start() # Launch"
   ]
  },
  {
   "cell_type": "code",
   "execution_count": 17,
   "metadata": {
    "collapsed": true
   },
   "outputs": [],
   "source": [
    "# Alternative method of launching threads"
   ]
  },
  {
   "cell_type": "code",
   "execution_count": 21,
   "metadata": {
    "collapsed": true
   },
   "outputs": [],
   "source": [
    "def countdown (count, name):\n",
    "    while count > 0:\n",
    "        print(\"%s at %d\" % (name, count) )\n",
    "        count -= 1\n",
    "        time.sleep(1)\n",
    "    return"
   ]
  },
  {
   "cell_type": "code",
   "execution_count": 29,
   "metadata": {
    "collapsed": true
   },
   "outputs": [],
   "source": [
    "t1 = threading.Thread(target=countdown, args=(10, \"th1\"))\n",
    "t2 = threading.Thread(target=countdown, args=(5, \"th2\"))"
   ]
  },
  {
   "cell_type": "code",
   "execution_count": 30,
   "metadata": {
    "collapsed": false
   },
   "outputs": [
    {
     "name": "stdout",
     "output_type": "stream",
     "text": [
      "th1 at 10\n",
      "th2 at 5*** END ***\n",
      "\n",
      "th1 at 9\n",
      "th2 at 4\n",
      "th1 at 8\n",
      "th2 at 3\n",
      "th1 at 7\n",
      "th2 at 2\n",
      "th1 at 6\n",
      "th2 at 1\n",
      "th1 at 5\n",
      "th1 at 4\n",
      "th1 at 3\n",
      "th1 at 2\n",
      "th1 at 1\n"
     ]
    }
   ],
   "source": [
    "t1.start()\n",
    "t2.start()"
   ]
  },
  {
   "cell_type": "code",
   "execution_count": null,
   "metadata": {
    "collapsed": true
   },
   "outputs": [],
   "source": []
  }
 ],
 "metadata": {
  "kernelspec": {
   "display_name": "Python 3",
   "language": "python",
   "name": "python3"
  },
  "language_info": {
   "codemirror_mode": {
    "name": "ipython",
    "version": 3
   },
   "file_extension": ".py",
   "mimetype": "text/x-python",
   "name": "python",
   "nbconvert_exporter": "python",
   "pygments_lexer": "ipython3",
   "version": "3.5.3"
  }
 },
 "nbformat": 4,
 "nbformat_minor": 2
}

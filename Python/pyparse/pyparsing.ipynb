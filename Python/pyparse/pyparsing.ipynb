{
 "cells": [
  {
   "cell_type": "code",
   "execution_count": null,
   "metadata": {
    "collapsed": true
   },
   "outputs": [],
   "source": [
    "from pyparsing import Word, alphas\n"
   ]
  },
  {
   "cell_type": "code",
   "execution_count": null,
   "metadata": {
    "collapsed": false
   },
   "outputs": [],
   "source": [
    "greet = Word( alphas ) + \",\" + Word( alphas ) + \"!\" # <-- grammar defined here\n",
    "greet1 = ( Word( alphas ) + \",\" + Word( alphas ) + \"!\") | (\"!\" + Word(alphas) + \"!\")"
   ]
  },
  {
   "cell_type": "code",
   "execution_count": null,
   "metadata": {
    "collapsed": false
   },
   "outputs": [],
   "source": [
    "hello = \"Hello, World!\"\n",
    "hello2 = \"! Hello !\"\n",
    "hello3 = \"! Hello, Here !\"\n",
    "print (hello2, \"->\", greet1.parseString( hello2 ))"
   ]
  },
  {
   "cell_type": "code",
   "execution_count": null,
   "metadata": {
    "collapsed": true
   },
   "outputs": [],
   "source": [
    "# chemicalFormulas.py\n",
    "from pyparsing import Word, Optional, OneOrMore, Group, ParseException\n",
    "\n",
    "# define a simple Python dict of atomic weights, with chemical symbols\n",
    "# for keys\n",
    "atomicWeight = {\n",
    "    \"O\"  : 15.9994,\n",
    "    \"H\"  : 1.00794,\n",
    "    \"Na\" : 22.9897,\n",
    "    \"Cl\" : 35.4527,\n",
    "    \"C\"  : 12.0107,\n",
    "    \"S\"  : 32.0655,\n",
    "    }\n",
    "\n",
    "# define some strings to use later, when describing valid lists \n",
    "# of characters for chemical symbols and numbers\n",
    "caps = \"ABCDEFGHIJKLMNOPQRSTUVWXYZ\"\n",
    "lowers = caps.lower()\n",
    "digits = \"0123456789\"\n",
    "\n",
    "# Version 1\n",
    "# Define grammar for a chemical formula\n",
    "# - an element is a Word, beginning with one of the characters in caps,\n",
    "#   followed by zero or more characters in lowers\n",
    "# - an integer is a Word composed of digits\n",
    "# - an elementRef is an element, optionally followed by an integer - if \n",
    "#   the integer is omitted, assume the value \"1\" as a default; these are \n",
    "#   enclosed in a Group to make it easier to walk the list of parsed \n",
    "#   chemical symbols, each with its associated number of atoms per \n",
    "#   molecule\n",
    "# - a chemicalFormula is just one or more elementRef's\n",
    "element = Word( caps, lowers )\n",
    "integer = Word( digits )\n",
    "elementRef = Group( element + Optional( integer, default=\"1\" ) )\n",
    "chemicalFormula = OneOrMore( elementRef )"
   ]
  },
  {
   "cell_type": "code",
   "execution_count": null,
   "metadata": {
    "collapsed": false
   },
   "outputs": [],
   "source": [
    "# try parsing some simple formulas\n",
    "for formula in ( \"H2O\", \"NaCl\", \"C6H5OH\", \"H2SO4\" ):\n",
    "    formulaData = chemicalFormula.parseString(formula)\n",
    "    \n",
    "    # compute molecular weight\n",
    "    # - the following Python expression is a shorthand for this for loop\n",
    "    #   mw = 0\n",
    "    #   for sym,qty in formulaData:\n",
    "    #       mw += atomicWeight[sym]*int(qty)\n",
    "    mw = sum( [ atomicWeight[sym]*int(qty) for sym,qty in formulaData ] )\n",
    "\n",
    "    # print the results\n",
    "    print(formula, \"->\", formulaData, \"(\", mw, \")\")\n",
    "\n",
    "print()"
   ]
  },
  {
   "cell_type": "code",
   "execution_count": 8,
   "metadata": {
    "collapsed": true
   },
   "outputs": [],
   "source": [
    "from __future__ import division\n",
    "from pyparsing import (Literal, CaselessLiteral, Word, Combine, Group, Optional,\n",
    "                       ZeroOrMore, Forward, nums, alphas, oneOf)\n",
    "import math\n",
    "import operator\n",
    "\n",
    "__author__ = 'Paul McGuire'\n",
    "__version__ = '$Revision: 0.0 $'\n",
    "__date__ = '$Date: 2009-03-20 $'\n",
    "__source__ = '''http://pyparsing.wikispaces.com/file/view/fourFn.py\n",
    "http://pyparsing.wikispaces.com/message/view/home/15549426\n",
    "'''\n",
    "__note__ = '''\n",
    "All I've done is rewrap Paul McGuire's fourFn.py as a class, so I can use it\n",
    "more easily in other places.\n",
    "'''\n",
    "\n",
    "\n",
    "class NumericStringParser(object):\n",
    "    '''\n",
    "    Most of this code comes from the fourFn.py pyparsing example\n",
    "\n",
    "    '''\n",
    "\n",
    "    def pushFirst(self, strg, loc, toks):\n",
    "        self.exprStack.append(toks[0])\n",
    "\n",
    "    def pushUMinus(self, strg, loc, toks):\n",
    "        if toks and toks[0] == '-':\n",
    "            self.exprStack.append('unary -')\n",
    "\n",
    "    def __init__(self):\n",
    "        \"\"\"\n",
    "        expop   :: '^'\n",
    "        multop  :: '*' | '/'\n",
    "        addop   :: '+' | '-'\n",
    "        integer :: ['+' | '-'] '0'..'9'+\n",
    "        atom    :: PI | E | real | fn '(' expr ')' | '(' expr ')'\n",
    "        factor  :: atom [ expop factor ]*\n",
    "        term    :: factor [ multop factor ]*\n",
    "        expr    :: term [ addop term ]*\n",
    "        \"\"\"\n",
    "        point = Literal(\".\")\n",
    "        e = CaselessLiteral(\"E\")\n",
    "        fnumber = Combine(Word(\"+-\" + nums, nums) +\n",
    "                          Optional(point + Optional(Word(nums))) +\n",
    "                          Optional(e + Word(\"+-\" + nums, nums)))\n",
    "        ident = Word(alphas)\n",
    "        array_idx = Word(\"$\" + nums)\n",
    "        array_all = Literal(\"$$\")\n",
    "        plus = Literal(\"+\")\n",
    "        minus = Literal(\"-\")\n",
    "        mult = Literal(\"*\")\n",
    "        div = Literal(\"/\")\n",
    "        lpar = Literal(\"(\").suppress()\n",
    "        rpar = Literal(\")\").suppress()\n",
    "        addop = plus | minus\n",
    "        multop = mult | div\n",
    "        expop = Literal(\"^\")\n",
    "        pi = CaselessLiteral(\"PI\")\n",
    "        expr = Forward()\n",
    "        atom = ((Optional(oneOf(\"- +\")) +\n",
    "                 (ident + lpar + expr + rpar | pi | e | fnumber).setParseAction(self.pushFirst))\n",
    "                | ( Optional(oneOf(\"- +\")) + Group(lpar + expr + rpar) )\n",
    "                | array_idx | array_all\n",
    "                ).setParseAction(self.pushUMinus) \n",
    "        # by defining exponentiation as \"atom [ ^ factor ]...\" instead of\n",
    "        # \"atom [ ^ atom ]...\", we get right-to-left exponents, instead of left-to-right\n",
    "        # that is, 2^3^2 = 2^(3^2), not (2^3)^2.\n",
    "        factor = Forward()\n",
    "        factor << atom + \\\n",
    "            ZeroOrMore((expop + factor).setParseAction(self.pushFirst))\n",
    "        term = factor + \\\n",
    "            ZeroOrMore((multop + factor).setParseAction(self.pushFirst))\n",
    "        expr << term + \\\n",
    "            ZeroOrMore((addop + term).setParseAction(self.pushFirst))\n",
    "        # addop_term = ( addop + term ).setParseAction( self.pushFirst )\n",
    "        # general_term = term + ZeroOrMore( addop_term ) | OneOrMore( addop_term)\n",
    "        # expr <<  general_term\n",
    "        self.bnf = expr\n",
    "        \n",
    "        # map operator symbols to corresponding arithmetic operations\n",
    "        epsilon = 1e-12\n",
    "        self.opn = {\"+\": operator.add,\n",
    "                    \"-\": operator.sub,\n",
    "                    \"*\": operator.mul,\n",
    "                    \"/\": operator.truediv,\n",
    "                    \"^\": operator.pow}\n",
    "        self.fn = {\"sin\": math.sin,\n",
    "                   \"cos\": math.cos,\n",
    "                   \"tan\": math.tan,\n",
    "                   \"exp\": math.exp,\n",
    "                   \"abs\": abs,\n",
    "                   \"trunc\": lambda a: int(a),\n",
    "                   \"round\": round,\n",
    "                   \"sgn\": lambda a: abs(a) > epsilon and cmp(a, 0) or 0}\n",
    "\n",
    "    def evaluateStack(self, s):\n",
    "        op = s.pop()\n",
    "        print(\"op = \", op)\n",
    "        if op == 'unary -':\n",
    "            return -self.evaluateStack(s)\n",
    "        if op in \"+-*/^\":\n",
    "            op2 = self.evaluateStack(s)\n",
    "            op1 = self.evaluateStack(s)\n",
    "            return self.opn[op](op1, op2)\n",
    "        elif op == \"PI\":\n",
    "            return math.pi  # 3.1415926535\n",
    "        elif op == \"E\":\n",
    "            return math.e  # 2.718281828\n",
    "        elif op[0] == \"$\":\n",
    "            return float(op[1:])\n",
    "        elif op in self.fn:\n",
    "            return self.fn[op](self.evaluateStack(s))\n",
    "        elif op[0].isalpha():\n",
    "            return 0\n",
    "        else:\n",
    "            return float(op)\n",
    "\n",
    "    def eval(self, num_string, parseAll=True):\n",
    "        self.exprStack = []\n",
    "        # parsing\n",
    "        results = self.bnf.parseString(num_string, parseAll)\n",
    "        print(\"$ parse results:\\n\", results)\n",
    "        # evaluation\n",
    "        val = self.evaluateStack(self.exprStack)\n",
    "        return val"
   ]
  },
  {
   "cell_type": "code",
   "execution_count": 9,
   "metadata": {
    "collapsed": false
   },
   "outputs": [
    {
     "name": "stdout",
     "output_type": "stream",
     "text": [
      "$ parse results:\n",
      " ['+', '2', '^', '4']\n",
      "op =  ^\n",
      "op =  4\n",
      "op =  2\n",
      "16.0\n",
      "$ parse results:\n",
      " ['exp', '2', '^', '4']\n",
      "op =  exp\n",
      "op =  ^\n",
      "op =  4\n",
      "op =  2\n",
      "8886110.520507872\n",
      "$ parse results:\n",
      " ['1', '+', '2', '+', '1', '+', '0']\n",
      "op =  +\n",
      "op =  0\n",
      "op =  +\n",
      "op =  1\n",
      "op =  +\n",
      "op =  2\n",
      "op =  1\n",
      "4.0\n"
     ]
    }
   ],
   "source": [
    "nsp = NumericStringParser()\n",
    "result = nsp.eval('+ 2^4')\n",
    "print(result)\n",
    "# 16.0\n",
    "\n",
    "result = nsp.eval('exp(2^4)')\n",
    "print(result)\n",
    "# 8886110.520507872\n",
    "\n",
    "result = nsp.eval('1+ 2 + 1 + 0')\n",
    "print(result)"
   ]
  },
  {
   "cell_type": "code",
   "execution_count": null,
   "metadata": {
    "collapsed": true
   },
   "outputs": [],
   "source": []
  }
 ],
 "metadata": {
  "kernelspec": {
   "display_name": "Python 3",
   "language": "python",
   "name": "python3"
  },
  "language_info": {
   "codemirror_mode": {
    "name": "ipython",
    "version": 3
   },
   "file_extension": ".py",
   "mimetype": "text/x-python",
   "name": "python",
   "nbconvert_exporter": "python",
   "pygments_lexer": "ipython3",
   "version": "3.5.3"
  }
 },
 "nbformat": 4,
 "nbformat_minor": 2
}
